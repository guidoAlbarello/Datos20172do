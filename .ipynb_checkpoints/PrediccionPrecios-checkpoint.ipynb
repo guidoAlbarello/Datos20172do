{
 "cells": [
  {
   "cell_type": "code",
   "execution_count": 2,
   "metadata": {
    "collapsed": true
   },
   "outputs": [],
   "source": [
    "import datetime as datetime\n",
    "import pandas as pd\n",
    "import numpy as np\n",
    "import matplotlib.pyplot as plt\n",
    "\n",
    "\n",
    "plt.style.use('default') # Make the graphs a bit prettier\n",
    "plt.rcParams['figure.figsize'] = (15, 5)"
   ]
  },
  {
   "cell_type": "code",
   "execution_count": 303,
   "metadata": {
    "collapsed": true
   },
   "outputs": [],
   "source": [
    "dsSell2013 = pd.read_csv(\"sell2013.csv\", low_memory=False)\n",
    "dsSell2014 = pd.read_csv(\"sell2014.csv\", low_memory=False)\n",
    "dsSell2015 = pd.read_csv(\"sell2015.csv\", low_memory=False)\n",
    "dsSell2016 = pd.read_csv(\"sell2016.csv\", low_memory=False)\n",
    "dsSell2017 = pd.read_csv(\"sell2017.csv\", low_memory=False)"
   ]
  },
  {
   "cell_type": "code",
   "execution_count": 304,
   "metadata": {
    "collapsed": true
   },
   "outputs": [],
   "source": [
    "#unimos todos los csv y filtramos para que solo queda GBA y CABA\n",
    "dsSell = dsSell2013.append(dsSell2014).append(dsSell2015).append(dsSell2016).append(dsSell2017)"
   ]
  },
  {
   "cell_type": "code",
   "execution_count": 305,
   "metadata": {
    "collapsed": false
   },
   "outputs": [
    {
     "data": {
      "text/html": [
       "<div>\n",
       "<table border=\"1\" class=\"dataframe\">\n",
       "  <thead>\n",
       "    <tr style=\"text-align: right;\">\n",
       "      <th></th>\n",
       "      <th>country_name</th>\n",
       "      <th>created_on</th>\n",
       "      <th>currency</th>\n",
       "      <th>description</th>\n",
       "      <th>expenses</th>\n",
       "      <th>extra</th>\n",
       "      <th>floor</th>\n",
       "      <th>geonames_id</th>\n",
       "      <th>id</th>\n",
       "      <th>image_thumbnail</th>\n",
       "      <th>...</th>\n",
       "      <th>price_per_m2</th>\n",
       "      <th>price_usd_per_m2</th>\n",
       "      <th>properati_url</th>\n",
       "      <th>property_type</th>\n",
       "      <th>rooms</th>\n",
       "      <th>state_name</th>\n",
       "      <th>surface_covered_in_m2</th>\n",
       "      <th>surface_in_m2</th>\n",
       "      <th>surface_total_in_m2</th>\n",
       "      <th>title</th>\n",
       "    </tr>\n",
       "  </thead>\n",
       "  <tbody>\n",
       "    <tr>\n",
       "      <th>0</th>\n",
       "      <td>NaN</td>\n",
       "      <td>2012-08-08</td>\n",
       "      <td>NaN</td>\n",
       "      <td>NaN</td>\n",
       "      <td>850 aprox</td>\n",
       "      <td>NaN</td>\n",
       "      <td>10.0</td>\n",
       "      <td>3436077.0</td>\n",
       "      <td>NaN</td>\n",
       "      <td>http://cf-thumbs.properati.com.ar/Cry7pVKa41t_...</td>\n",
       "      <td>...</td>\n",
       "      <td>NaN</td>\n",
       "      <td>NaN</td>\n",
       "      <td>http://www.properati.com.ar/ag_venta_departame...</td>\n",
       "      <td>apartment</td>\n",
       "      <td>3.0</td>\n",
       "      <td>NaN</td>\n",
       "      <td>NaN</td>\n",
       "      <td>102.0</td>\n",
       "      <td>NaN</td>\n",
       "      <td>NaN</td>\n",
       "    </tr>\n",
       "    <tr>\n",
       "      <th>1</th>\n",
       "      <td>NaN</td>\n",
       "      <td>2012-08-08</td>\n",
       "      <td>NaN</td>\n",
       "      <td>NaN</td>\n",
       "      <td>NaN</td>\n",
       "      <td>NaN</td>\n",
       "      <td>11.0</td>\n",
       "      <td>3427467.0</td>\n",
       "      <td>NaN</td>\n",
       "      <td>http://cf-thumbs.properati.com.ar/MwrzW_dkQbqR...</td>\n",
       "      <td>...</td>\n",
       "      <td>NaN</td>\n",
       "      <td>NaN</td>\n",
       "      <td>http://www.properati.com.ar/ah_venta_departame...</td>\n",
       "      <td>apartment</td>\n",
       "      <td>3.0</td>\n",
       "      <td>NaN</td>\n",
       "      <td>NaN</td>\n",
       "      <td>73.0</td>\n",
       "      <td>NaN</td>\n",
       "      <td>NaN</td>\n",
       "    </tr>\n",
       "    <tr>\n",
       "      <th>2</th>\n",
       "      <td>NaN</td>\n",
       "      <td>2012-08-08</td>\n",
       "      <td>NaN</td>\n",
       "      <td>NaN</td>\n",
       "      <td>NaN</td>\n",
       "      <td>NaN</td>\n",
       "      <td>NaN</td>\n",
       "      <td>3427467.0</td>\n",
       "      <td>NaN</td>\n",
       "      <td>http://cf-thumbs.properati.com.ar/2wMqxAsh1N2t...</td>\n",
       "      <td>...</td>\n",
       "      <td>NaN</td>\n",
       "      <td>NaN</td>\n",
       "      <td>http://www.properati.com.ar/aj_venta_casa_vill...</td>\n",
       "      <td>house</td>\n",
       "      <td>4.0</td>\n",
       "      <td>NaN</td>\n",
       "      <td>NaN</td>\n",
       "      <td>485.0</td>\n",
       "      <td>NaN</td>\n",
       "      <td>NaN</td>\n",
       "    </tr>\n",
       "    <tr>\n",
       "      <th>3</th>\n",
       "      <td>NaN</td>\n",
       "      <td>2012-08-08</td>\n",
       "      <td>USD</td>\n",
       "      <td>NaN</td>\n",
       "      <td>NaN</td>\n",
       "      <td>NaN</td>\n",
       "      <td>NaN</td>\n",
       "      <td>3427467.0</td>\n",
       "      <td>NaN</td>\n",
       "      <td>http://cf-thumbs.properati.com.ar/uMwzJsvexa1C...</td>\n",
       "      <td>...</td>\n",
       "      <td>NaN</td>\n",
       "      <td>315.186246</td>\n",
       "      <td>http://www.properati.com.ar/ak_venta_casa_vill...</td>\n",
       "      <td>house</td>\n",
       "      <td>4.0</td>\n",
       "      <td>NaN</td>\n",
       "      <td>NaN</td>\n",
       "      <td>349.0</td>\n",
       "      <td>NaN</td>\n",
       "      <td>NaN</td>\n",
       "    </tr>\n",
       "    <tr>\n",
       "      <th>4</th>\n",
       "      <td>NaN</td>\n",
       "      <td>2012-08-08</td>\n",
       "      <td>NaN</td>\n",
       "      <td>NaN</td>\n",
       "      <td>NaN</td>\n",
       "      <td>NaN</td>\n",
       "      <td>NaN</td>\n",
       "      <td>NaN</td>\n",
       "      <td>NaN</td>\n",
       "      <td>http://cf-thumbs.properati.com.ar/4kPnofvgR6hs...</td>\n",
       "      <td>...</td>\n",
       "      <td>NaN</td>\n",
       "      <td>NaN</td>\n",
       "      <td>http://www.properati.com.ar/ao_venta_departame...</td>\n",
       "      <td>apartment</td>\n",
       "      <td>3.0</td>\n",
       "      <td>NaN</td>\n",
       "      <td>NaN</td>\n",
       "      <td>NaN</td>\n",
       "      <td>NaN</td>\n",
       "      <td>NaN</td>\n",
       "    </tr>\n",
       "  </tbody>\n",
       "</table>\n",
       "<p>5 rows × 29 columns</p>\n",
       "</div>"
      ],
      "text/plain": [
       "  country_name  created_on currency description   expenses extra  floor  \\\n",
       "0          NaN  2012-08-08      NaN         NaN  850 aprox   NaN   10.0   \n",
       "1          NaN  2012-08-08      NaN         NaN        NaN   NaN   11.0   \n",
       "2          NaN  2012-08-08      NaN         NaN        NaN   NaN    NaN   \n",
       "3          NaN  2012-08-08      USD         NaN        NaN   NaN    NaN   \n",
       "4          NaN  2012-08-08      NaN         NaN        NaN   NaN    NaN   \n",
       "\n",
       "   geonames_id   id                                    image_thumbnail  ...    \\\n",
       "0    3436077.0  NaN  http://cf-thumbs.properati.com.ar/Cry7pVKa41t_...  ...     \n",
       "1    3427467.0  NaN  http://cf-thumbs.properati.com.ar/MwrzW_dkQbqR...  ...     \n",
       "2    3427467.0  NaN  http://cf-thumbs.properati.com.ar/2wMqxAsh1N2t...  ...     \n",
       "3    3427467.0  NaN  http://cf-thumbs.properati.com.ar/uMwzJsvexa1C...  ...     \n",
       "4          NaN  NaN  http://cf-thumbs.properati.com.ar/4kPnofvgR6hs...  ...     \n",
       "\n",
       "   price_per_m2 price_usd_per_m2  \\\n",
       "0           NaN              NaN   \n",
       "1           NaN              NaN   \n",
       "2           NaN              NaN   \n",
       "3           NaN       315.186246   \n",
       "4           NaN              NaN   \n",
       "\n",
       "                                       properati_url property_type rooms  \\\n",
       "0  http://www.properati.com.ar/ag_venta_departame...     apartment   3.0   \n",
       "1  http://www.properati.com.ar/ah_venta_departame...     apartment   3.0   \n",
       "2  http://www.properati.com.ar/aj_venta_casa_vill...         house   4.0   \n",
       "3  http://www.properati.com.ar/ak_venta_casa_vill...         house   4.0   \n",
       "4  http://www.properati.com.ar/ao_venta_departame...     apartment   3.0   \n",
       "\n",
       "  state_name  surface_covered_in_m2  surface_in_m2  surface_total_in_m2  title  \n",
       "0        NaN                    NaN          102.0                  NaN    NaN  \n",
       "1        NaN                    NaN           73.0                  NaN    NaN  \n",
       "2        NaN                    NaN          485.0                  NaN    NaN  \n",
       "3        NaN                    NaN          349.0                  NaN    NaN  \n",
       "4        NaN                    NaN            NaN                  NaN    NaN  \n",
       "\n",
       "[5 rows x 29 columns]"
      ]
     },
     "execution_count": 305,
     "metadata": {},
     "output_type": "execute_result"
    }
   ],
   "source": [
    "dsSell.head()"
   ]
  },
  {
   "cell_type": "code",
   "execution_count": 3,
   "metadata": {
    "collapsed": true
   },
   "outputs": [],
   "source": [
    "#Queremos quedarnos con la zona, el municipio y los que esten en CABA y GBA\n",
    "def getMunicipioYZona(df):\n",
    "    df['municipio'] = df['place_with_parent_names'].apply(lambda x: x.split('|')[3])\n",
    "    df['zona'] = df['place_with_parent_names'].apply(lambda x: x.split('|')[2])\n",
    "\n",
    "    df['filtro'] = df['zona'].apply(lambda x: ((x=='Capital Federal')or(x=='Bs.As. G.B.A. Zona Norte')or(x=='Bs.As. G.B.A. Zona Sur')or(x=='Bs.As. G.B.A. Zona Oeste')))\n",
    "    df = df[df.filtro]"
   ]
  },
  {
   "cell_type": "code",
   "execution_count": 4,
   "metadata": {
    "collapsed": true
   },
   "outputs": [],
   "source": [
    "#Como nos importa mucho el precio con respecto a otras cosas vamos a sacar a los que tienen esa columna en NaN\n",
    "def filtrarPrecioNulo(df):\n",
    "    df['tiene_precio'] = df['price'].apply(lambda x: pd.notnull(x))\n",
    "    df = df[df.tiene_precio]"
   ]
  },
  {
   "cell_type": "code",
   "execution_count": 5,
   "metadata": {
    "collapsed": false
   },
   "outputs": [],
   "source": [
    "#convertimos el formato de la fecha\n",
    "def formatearFecha(df):\n",
    "    df['year'] =pd.to_numeric(df['created_on'].map( lambda x: x.split('-')[0]))\n",
    "    df['month'] = pd.to_numeric(df['created_on'].map( lambda x: x.split('-')[1]))\n",
    "    df['created_on'] = df['created_on'] .map(lambda x: x.split('-')[0]+x.split('-')[1]+x.split('-')[2])\n"
   ]
  },
  {
   "cell_type": "code",
   "execution_count": 309,
   "metadata": {
    "collapsed": false
   },
   "outputs": [],
   "source": [
    "#contamos la cantidad de publicaciones para cada año\n",
    "#Sell2012 = dsSell[dsSell.created_on.str.contains('2012')]\n",
    "#Sell2013 = dsSell[dsSell.created_on.str.contains('2013')]\n",
    "#Sell2014 = dsSell[dsSell.created_on.str.contains('2014')]\n",
    "#Sell2015 = dsSell[dsSell.created_on.str.contains('2015')]\n",
    "#Sell2016 = dsSell[dsSell.created_on.str.contains('2016')]\n",
    "#Sell2017 = dsSell[dsSell.created_on.str.contains('2017')]\n",
    "#print (Sell2012.id.count())\n",
    "#print (Sell2013.id.count())\n",
    "#print (Sell2014.id.count())\n",
    "#print (Sell2015.id.count())\n",
    "#print (Sell2016.id.count())\n",
    "#print (Sell2017.id.count())"
   ]
  },
  {
   "cell_type": "code",
   "execution_count": 310,
   "metadata": {
    "collapsed": false
   },
   "outputs": [],
   "source": [
    "#generamos un df con los precios por m2 en usd para cada zona por año\n",
    "#dSell2012 = Sell2012.groupby('zona').mean().reset_index()[['zona','price_usd_per_m2']]\n",
    "#dSell2013 = Sell2013.groupby('zona').mean().reset_index()[['zona','price_usd_per_m2']]\n",
    "#dSell2014 = Sell2014.groupby('zona').mean().reset_index()[['zona','price_usd_per_m2']]\n",
    "#dSell2015 = Sell2015.groupby('zona').mean().reset_index()[['zona','price_usd_per_m2']]\n",
    "#dSell2016 = Sell2016.groupby('zona').mean().reset_index()[['zona','price_usd_per_m2']]\n",
    "#dSell2017 = Sell2017.groupby('zona').mean().reset_index()[['zona','price_usd_per_m2']]\n",
    "#dSell_price_m2_per_year = Sell2012.groupby('zona').mean().reset_index()[['zona','price_usd_per_m2']]\n",
    "#dSell_price_m2_per_year['price_usd_per_m2-2013'] = dSell2013['price_usd_per_m2']\n",
    "#dSell_price_m2_per_year['price_usd_per_m2-2014'] = dSell2014['price_usd_per_m2']\n",
    "#dSell_price_m2_per_year['price_usd_per_m2-2015'] = dSell2015['price_usd_per_m2']\n",
    "#dSell_price_m2_per_year['price_usd_per_m2-2016'] = dSell2016['price_usd_per_m2']\n",
    "#dSell_price_m2_per_year['price_usd_per_m2-2017'] = dSell2017['price_usd_per_m2']\n",
    "#dSell_price_m2_per_year.rename(columns={'price_usd_per_m2':'price_usd_per_m2-2012'},inplace = True)\n",
    "#dSell_price_m2_per_year.head()"
   ]
  },
  {
   "cell_type": "code",
   "execution_count": 6,
   "metadata": {
    "collapsed": false
   },
   "outputs": [],
   "source": [
    "def getInfoFromDescription(df):\n",
    "    df['cochera'] = df.description.str.contains('cochera')\n",
    "    df['pileta'] = df.description.str.contains('pileta')\n",
    "    df['sum'] = df.description.str.contains('sum')\n",
    "    df['aire acondicionado'] = df.description.str.contains('aire acondicionado')\n",
    "    df['calefaccion'] = df.description.str.contains('calefaccion')\n",
    "    df['seguridad'] = df.description.str.contains('seguridad')\n",
    "    df['estrenar'] = df.description.str.contains('estrenar')\n",
    "    df['emprendimiento'] = df.description.str.contains('emprendimiento')\n",
    "\n",
    "    #convertimos los valores false , true y nan de las busquedas anteriores\n",
    "\n",
    "    df['cochera'] = df['cochera'].map(lambda x: 0 if x == 'False' else 1 if x == 'True' else 0.5)\n",
    "    df['pileta'] = df['pileta'].map(lambda x: 0 if x == 'False' else 1 if x == 'True' else 0.5)\n",
    "    df['sum'] = df['sum'].map(lambda x: 0 if x == 'False' else 1 if x == 'True' else 0.5)\n",
    "    df['aire acondicionado'] = df['aire acondicionado'].map(lambda x: 0 if x == 'False' else 1 if x == 'True' else 0.5)\n",
    "    df['calefaccion'] = df['calefaccion'].map(lambda x: 0 if x == 'False' else 1 if x == 'True' else 0.5)\n",
    "    df['seguridad'] = df['seguridad'].map(lambda x: 0 if x == 'False' else 1 if x == 'True' else 0.5)\n",
    "    df['estrenar'] = df['estrenar'].map(lambda x: 0 if x == 'False' else 1 if x == 'True' else 0.5)\n",
    "    df['emprendimiento'] = df['emprendimiento'].map(lambda x: 0 if x == 'False' else 1 if x == 'True' else 0.5)\n",
    "    "
   ]
  },
  {
   "cell_type": "code",
   "execution_count": 7,
   "metadata": {
    "collapsed": true
   },
   "outputs": [],
   "source": [
    "#pasar todas las superficies de surface_in_m2 a total_surface_in_m2\n",
    "def estandarizarCampoSuperfice(df):\n",
    "    mask = (df['surface_total_in_m2'].isnull())\n",
    "    df['surface_total_in_m2'][mask] = df['surface_in_m2'][mask]"
   ]
  },
  {
   "cell_type": "code",
   "execution_count": 8,
   "metadata": {
    "collapsed": true
   },
   "outputs": [],
   "source": [
    "#drop de columnas\n",
    "def dropColumnas(df):\n",
    "    df.drop('price_per_m2', axis = 1, inplace = True)\n",
    "    df.drop('place_with_parent_names', axis = 1, inplace = True)\n",
    "    df.drop('created_on', axis = 1, inplace = True)\n",
    "    df.drop('description', axis = 1, inplace = True)\n",
    "    df.drop('currency', axis=1, inplace=True)\n",
    "    df.drop('extra', axis=1, inplace=True)\n",
    "    df.drop('id', axis=1, inplace=True)\n",
    "    df.drop('image_thumbnail', axis=1, inplace=True)\n",
    "    df.drop('properati_url', axis=1, inplace=True)\n",
    "    df.drop('title', axis=1, inplace=True)\n",
    "    df.drop('lat-lon', axis=1, inplace=True)\n",
    "    df.drop('operation', axis=1, inplace=True)\n",
    "    df.drop('price', axis=1, inplace=True)\n",
    "    df.drop('price_aprox_local_currency', axis=1, inplace=True)\n",
    "    df.drop('country_name', axis=1, inplace=True)\n",
    "    df.drop('place_name', axis=1, inplace=True)\n",
    "    df.drop('municipio', axis=1, inplace=True)\n",
    "    df.drop('state_name', axis=1, inplace=True)\n",
    "    df.drop('geonames_id', axis=1, inplace=True)\n",
    "    df.drop('price_usd_per_m2', axis=1, inplace=True)\n",
    "    df.drop('surface_in_m2', axis=1, inplace=True)\n",
    "    df.drop('filtro', axis=1, inplace=True)\n",
    "    df.drop('tiene_precio', axis=1, inplace=True)"
   ]
  },
  {
   "cell_type": "code",
   "execution_count": 314,
   "metadata": {
    "collapsed": false
   },
   "outputs": [
    {
     "data": {
      "text/plain": [
       "Index(['country_name', 'created_on', 'currency', 'description', 'expenses',\n",
       "       'extra', 'floor', 'geonames_id', 'id', 'image_thumbnail', 'lat',\n",
       "       'lat-lon', 'lon', 'operation', 'place_name', 'place_with_parent_names',\n",
       "       'price', 'price_aprox_local_currency', 'price_aprox_usd',\n",
       "       'price_per_m2', 'price_usd_per_m2', 'properati_url', 'property_type',\n",
       "       'rooms', 'state_name', 'surface_covered_in_m2', 'surface_in_m2',\n",
       "       'surface_total_in_m2', 'title'],\n",
       "      dtype='object')"
      ]
     },
     "execution_count": 314,
     "metadata": {},
     "output_type": "execute_result"
    }
   ],
   "source": [
    "dsSell.columns"
   ]
  },
  {
   "cell_type": "code",
   "execution_count": 9,
   "metadata": {
    "collapsed": false
   },
   "outputs": [],
   "source": [
    "#preprocessing\n",
    "\n",
    "def preprocesamientoExpensas(df):\n",
    "    #eliminamos todo lo q no es numero de expenses\n",
    "    df['expenses'] = df['expenses'].str.extract('(\\d+)')\n",
    "    #convertimos a float\n",
    "\n",
    "    df['expenses'] =pd.to_numeric(df.expenses, errors='coerce').notnull()\n",
    "    "
   ]
  },
  {
   "cell_type": "code",
   "execution_count": 10,
   "metadata": {
    "collapsed": false
   },
   "outputs": [],
   "source": [
    "#one hot encoding de los place name. me suena mal muchas columnas. performance\n",
    "def oneHotEncoding(df, columna):\n",
    "  \n",
    "    one_hot = pd.get_dummies(df[columna])\n",
    "    df.drop(columna, axis=1, inplace=True)\n",
    "    df = df.join(one_hot)\n",
    "    "
   ]
  },
  {
   "cell_type": "code",
   "execution_count": 11,
   "metadata": {
    "collapsed": false
   },
   "outputs": [],
   "source": [
    "#filleamos los nan con el promedio de las columnas\n",
    "def fillNan(df):\n",
    "    return df.apply(lambda x: x.fillna(x.mean()),axis=0)"
   ]
  },
  {
   "cell_type": "code",
   "execution_count": 318,
   "metadata": {
    "collapsed": true
   },
   "outputs": [],
   "source": [
    "#normalize data"
   ]
  },
  {
   "cell_type": "code",
   "execution_count": 319,
   "metadata": {
    "collapsed": false
   },
   "outputs": [
    {
     "name": "stderr",
     "output_type": "stream",
     "text": [
      "M:\\Users\\Krion\\Anaconda3\\lib\\site-packages\\ipykernel\\__main__.py:4: SettingWithCopyWarning: \n",
      "A value is trying to be set on a copy of a slice from a DataFrame\n",
      "\n",
      "See the caveats in the documentation: http://pandas.pydata.org/pandas-docs/stable/indexing.html#indexing-view-versus-copy\n",
      "M:\\Users\\Krion\\Anaconda3\\lib\\site-packages\\ipykernel\\__main__.py:5: FutureWarning: currently extract(expand=None) means expand=False (return Index/Series/DataFrame) but in a future version of pandas this will be changed to expand=True (return DataFrame)\n"
     ]
    }
   ],
   "source": [
    "getMunicipioYZona(dsSell)\n",
    "filtrarPrecioNulo(dsSell)\n",
    "formatearFecha(dsSell)\n",
    "getInfoFromDescription(dsSell)\n",
    "estandarizarCampoSuperfice(dsSell)\n",
    "dropColumnas(dsSell)\n",
    "preprocesamientoExpensas(dsSell)\n",
    "oneHotEncoding(dsSell, 'zona')\n",
    "oneHotEncoding(dsSell, 'property_type')\n",
    "dsSell = fillNan(dsSell)\n"
   ]
  },
  {
   "cell_type": "code",
   "execution_count": 320,
   "metadata": {
    "collapsed": false
   },
   "outputs": [],
   "source": [
    "#creamos un set de test y otro de entrenamiento. el test de entrenamiento sera de un 10% del original \n",
    "\n",
    "dsSell['is_true'] = np.random.uniform(0,1,len(dsSell)) <= 0.1\n",
    "dsSellTrain, dsSellTest = dsSell[dsSell['is_true']==True], dsSell[dsSell['is_true']==False]\n",
    "del dsSell['is_true']\n",
    "del dsSellTrain['is_true']\n",
    "del dsSellTest['is_true']\n",
    "\n",
    "dsSellTrain_y = dsSellTrain['price_aprox_usd']\n",
    "dsSellTrain_x = dsSellTrain.drop('price_aprox_usd', axis=1)\n",
    "dsSellTest_y = dsSellTest['price_aprox_usd']\n",
    "dsSellTest_x = dsSellTest.drop('price_aprox_usd', axis=1)"
   ]
  },
  {
   "cell_type": "code",
   "execution_count": 321,
   "metadata": {
    "collapsed": false
   },
   "outputs": [],
   "source": [
    "#normalize data\n",
    "from sklearn import preprocessing\n",
    "from sklearn.preprocessing import StandardScaler\n",
    "\n",
    "dsSellTrain_x = preprocessing.normalize(dsSellTrain_x)\n",
    "\n",
    "scaler = StandardScaler()\n",
    "scaler.fit(dsSellTrain_x) \n",
    "dsSellTrain_x= scaler.transform(dsSellTrain_x)\n"
   ]
  },
  {
   "cell_type": "code",
   "execution_count": 322,
   "metadata": {
    "collapsed": false
   },
   "outputs": [
    {
     "data": {
      "text/plain": [
       "{'alpha': 0.0001,\n",
       " 'average': False,\n",
       " 'epsilon': 0.1,\n",
       " 'eta0': 0.01,\n",
       " 'fit_intercept': True,\n",
       " 'l1_ratio': 0.15,\n",
       " 'learning_rate': 'invscaling',\n",
       " 'loss': 'squared_loss',\n",
       " 'n_iter': 5,\n",
       " 'penalty': 'l2',\n",
       " 'power_t': 0.25,\n",
       " 'random_state': None,\n",
       " 'shuffle': True,\n",
       " 'verbose': 0,\n",
       " 'warm_start': False}"
      ]
     },
     "execution_count": 322,
     "metadata": {},
     "output_type": "execute_result"
    }
   ],
   "source": [
    "model.get_params()"
   ]
  },
  {
   "cell_type": "code",
   "execution_count": 323,
   "metadata": {
    "collapsed": false
   },
   "outputs": [
    {
     "name": "stdout",
     "output_type": "stream",
     "text": [
      "[INFO] tuning hyperparameters via grid search\n",
      "[INFO] fitting stage\n",
      "[INFO] grid search took 6.93 seconds\n",
      "[INFO] grid search accuracy: 10.19%\n",
      "[INFO] grid search best parameters: {'power_t': 0.25, 'loss': 'squared_epsilon_insensitive', 'learning_rate': 'invscaling', 'eta0': 0.001, 'alpha': 1}\n"
     ]
    }
   ],
   "source": [
    "from sklearn.model_selection import RandomizedSearchCV\n",
    "from numpy import random\n",
    "from sklearn import linear_model\n",
    "from sklearn.metrics import accuracy_score\n",
    "from sklearn.metrics import r2_score\n",
    "from sklearn.metrics import mean_squared_error\n",
    "from sklearn.metrics import mean_absolute_error\n",
    "from sklearn.metrics import make_scorer\n",
    "\n",
    "import scipy\n",
    "import time\n",
    "\n",
    "print(\"[INFO] tuning hyperparameters via grid search\")\n",
    "\n",
    "params = {'loss' : ['squared_epsilon_insensitive'],\n",
    "              'learning_rate' : ['optimal', 'invscaling'] , 'eta0' : [0.01,0.001,0.1,1,10,5], 'power_t' : [0.25,0.3,0.8,0.1,0.1,0.60],\n",
    "                'alpha' : [1,10,0.01,0.0001,1000,100,200]} \n",
    "\n",
    "model = linear_model.SGDRegressor()\n",
    "grid = RandomizedSearchCV(model, params, n_jobs = -1)\n",
    "\n",
    "\n",
    "start = time.time()\n",
    "print(\"[INFO] fitting stage\")\n",
    "grid = grid.fit(dsSellTrain_x , dsSellTrain_y)\n",
    "acc = grid.best_score_\n",
    "\n",
    "print(\"[INFO] grid search took {:.2f} seconds\".format(time.time() - start))\n",
    "print(\"[INFO] grid search accuracy: {:.2f}%\".format(acc * 100))\n",
    "print(\"[INFO] grid search best parameters: {}\".format(grid.best_params_))"
   ]
  },
  {
   "cell_type": "code",
   "execution_count": 20,
   "metadata": {
    "collapsed": false
   },
   "outputs": [],
   "source": [
    "#levantamos el set de test \n",
    "testSet = pd.read_csv(\"testSet.csv\", low_memory=False)\n",
    "testId = testSet['id']"
   ]
  },
  {
   "cell_type": "code",
   "execution_count": 21,
   "metadata": {
    "collapsed": true
   },
   "outputs": [],
   "source": [
    "#drop de columnas\n",
    "def dropColumnasTestSet(df):\n",
    "    df.drop('place_with_parent_names', axis = 1, inplace = True)\n",
    "    df.drop('created_on', axis = 1, inplace = True)\n",
    "    df.drop('description', axis = 1, inplace = True)\n",
    "    df.drop('id', axis=1, inplace=True)\n",
    "    df.drop('lat-lon', axis=1, inplace=True)\n",
    "    df.drop('operation', axis=1, inplace=True)\n",
    "    df.drop('country_name', axis=1, inplace=True)\n",
    "    df.drop('place_name', axis=1, inplace=True)\n",
    "    df.drop('municipio', axis=1, inplace=True)\n",
    "    df.drop('state_name', axis=1, inplace=True)\n",
    "    df.drop('filtro', axis=1, inplace=True)"
   ]
  },
  {
   "cell_type": "code",
   "execution_count": 22,
   "metadata": {
    "collapsed": false
   },
   "outputs": [
    {
     "name": "stderr",
     "output_type": "stream",
     "text": [
      "M:\\Users\\Krion\\Anaconda3\\lib\\site-packages\\ipykernel\\__main__.py:5: FutureWarning: currently extract(expand=None) means expand=False (return Index/Series/DataFrame) but in a future version of pandas this will be changed to expand=True (return DataFrame)\n"
     ]
    }
   ],
   "source": [
    "#preprocesamos el set de test\n",
    "testSetPreprocessed = testSet\n",
    "\n",
    "getMunicipioYZona(testSetPreprocessed)\n",
    "formatearFecha(testSetPreprocessed)\n",
    "getInfoFromDescription(testSetPreprocessed)\n",
    "dropColumnasTestSet(testSetPreprocessed)\n",
    "preprocesamientoExpensas(testSetPreprocessed)\n",
    "oneHotEncoding(testSetPreprocessed, 'zona')\n",
    "oneHotEncoding(testSetPreprocessed, 'property_type')\n",
    "testSetPreprocessed = fillNan(testSetPreprocessed)"
   ]
  },
  {
   "cell_type": "code",
   "execution_count": 23,
   "metadata": {
    "collapsed": false
   },
   "outputs": [
    {
     "data": {
      "text/plain": [
       "Index(['lat', 'lon', 'surface_total_in_m2', 'surface_covered_in_m2', 'floor',\n",
       "       'rooms', 'expenses', 'year', 'month', 'cochera', 'pileta', 'sum',\n",
       "       'aire acondicionado', 'calefaccion', 'seguridad', 'estrenar',\n",
       "       'emprendimiento'],\n",
       "      dtype='object')"
      ]
     },
     "execution_count": 23,
     "metadata": {},
     "output_type": "execute_result"
    }
   ],
   "source": [
    "testSetPreprocessed.columns"
   ]
  },
  {
   "cell_type": "code",
   "execution_count": 30,
   "metadata": {
    "collapsed": false
   },
   "outputs": [],
   "source": [
    "testPrice= grid.predict(testSetPreprocessed)"
   ]
  },
  {
   "cell_type": "code",
   "execution_count": 28,
   "metadata": {
    "collapsed": false
   },
   "outputs": [],
   "source": [
    "dataPredictions = {'id' : testId,\n",
    "        'price_usd' : testPrice}\n",
    "testPrediction = pd.DataFrame(dataPredictions)"
   ]
  },
  {
   "cell_type": "code",
   "execution_count": 29,
   "metadata": {
    "collapsed": false
   },
   "outputs": [
    {
     "data": {
      "text/html": [
       "<div>\n",
       "<table border=\"1\" class=\"dataframe\">\n",
       "  <thead>\n",
       "    <tr style=\"text-align: right;\">\n",
       "      <th></th>\n",
       "      <th>id</th>\n",
       "      <th>price_usd</th>\n",
       "    </tr>\n",
       "  </thead>\n",
       "  <tbody>\n",
       "    <tr>\n",
       "      <th>0</th>\n",
       "      <td>3632</td>\n",
       "      <td>0</td>\n",
       "    </tr>\n",
       "    <tr>\n",
       "      <th>1</th>\n",
       "      <td>3633</td>\n",
       "      <td>0</td>\n",
       "    </tr>\n",
       "    <tr>\n",
       "      <th>2</th>\n",
       "      <td>2263404</td>\n",
       "      <td>0</td>\n",
       "    </tr>\n",
       "    <tr>\n",
       "      <th>3</th>\n",
       "      <td>2263405</td>\n",
       "      <td>0</td>\n",
       "    </tr>\n",
       "    <tr>\n",
       "      <th>4</th>\n",
       "      <td>2263406</td>\n",
       "      <td>0</td>\n",
       "    </tr>\n",
       "    <tr>\n",
       "      <th>5</th>\n",
       "      <td>2263407</td>\n",
       "      <td>0</td>\n",
       "    </tr>\n",
       "    <tr>\n",
       "      <th>6</th>\n",
       "      <td>2263408</td>\n",
       "      <td>0</td>\n",
       "    </tr>\n",
       "    <tr>\n",
       "      <th>7</th>\n",
       "      <td>2263409</td>\n",
       "      <td>0</td>\n",
       "    </tr>\n",
       "    <tr>\n",
       "      <th>8</th>\n",
       "      <td>2263410</td>\n",
       "      <td>0</td>\n",
       "    </tr>\n",
       "    <tr>\n",
       "      <th>9</th>\n",
       "      <td>2263411</td>\n",
       "      <td>0</td>\n",
       "    </tr>\n",
       "    <tr>\n",
       "      <th>10</th>\n",
       "      <td>2263412</td>\n",
       "      <td>0</td>\n",
       "    </tr>\n",
       "    <tr>\n",
       "      <th>11</th>\n",
       "      <td>2263413</td>\n",
       "      <td>0</td>\n",
       "    </tr>\n",
       "    <tr>\n",
       "      <th>12</th>\n",
       "      <td>2263415</td>\n",
       "      <td>0</td>\n",
       "    </tr>\n",
       "    <tr>\n",
       "      <th>13</th>\n",
       "      <td>2263416</td>\n",
       "      <td>0</td>\n",
       "    </tr>\n",
       "    <tr>\n",
       "      <th>14</th>\n",
       "      <td>2263417</td>\n",
       "      <td>0</td>\n",
       "    </tr>\n",
       "    <tr>\n",
       "      <th>15</th>\n",
       "      <td>2263418</td>\n",
       "      <td>0</td>\n",
       "    </tr>\n",
       "    <tr>\n",
       "      <th>16</th>\n",
       "      <td>2263419</td>\n",
       "      <td>0</td>\n",
       "    </tr>\n",
       "    <tr>\n",
       "      <th>17</th>\n",
       "      <td>2263420</td>\n",
       "      <td>0</td>\n",
       "    </tr>\n",
       "    <tr>\n",
       "      <th>18</th>\n",
       "      <td>2263421</td>\n",
       "      <td>0</td>\n",
       "    </tr>\n",
       "    <tr>\n",
       "      <th>19</th>\n",
       "      <td>2263422</td>\n",
       "      <td>0</td>\n",
       "    </tr>\n",
       "    <tr>\n",
       "      <th>20</th>\n",
       "      <td>2263423</td>\n",
       "      <td>0</td>\n",
       "    </tr>\n",
       "    <tr>\n",
       "      <th>21</th>\n",
       "      <td>2263424</td>\n",
       "      <td>0</td>\n",
       "    </tr>\n",
       "    <tr>\n",
       "      <th>22</th>\n",
       "      <td>2263425</td>\n",
       "      <td>0</td>\n",
       "    </tr>\n",
       "    <tr>\n",
       "      <th>23</th>\n",
       "      <td>2263426</td>\n",
       "      <td>0</td>\n",
       "    </tr>\n",
       "    <tr>\n",
       "      <th>24</th>\n",
       "      <td>2263427</td>\n",
       "      <td>0</td>\n",
       "    </tr>\n",
       "    <tr>\n",
       "      <th>25</th>\n",
       "      <td>2263428</td>\n",
       "      <td>0</td>\n",
       "    </tr>\n",
       "    <tr>\n",
       "      <th>26</th>\n",
       "      <td>2263429</td>\n",
       "      <td>0</td>\n",
       "    </tr>\n",
       "    <tr>\n",
       "      <th>27</th>\n",
       "      <td>2263430</td>\n",
       "      <td>0</td>\n",
       "    </tr>\n",
       "    <tr>\n",
       "      <th>28</th>\n",
       "      <td>2263431</td>\n",
       "      <td>0</td>\n",
       "    </tr>\n",
       "    <tr>\n",
       "      <th>29</th>\n",
       "      <td>2263432</td>\n",
       "      <td>0</td>\n",
       "    </tr>\n",
       "    <tr>\n",
       "      <th>...</th>\n",
       "      <td>...</td>\n",
       "      <td>...</td>\n",
       "    </tr>\n",
       "    <tr>\n",
       "      <th>14136</th>\n",
       "      <td>2245037</td>\n",
       "      <td>0</td>\n",
       "    </tr>\n",
       "    <tr>\n",
       "      <th>14137</th>\n",
       "      <td>2245039</td>\n",
       "      <td>0</td>\n",
       "    </tr>\n",
       "    <tr>\n",
       "      <th>14138</th>\n",
       "      <td>2245041</td>\n",
       "      <td>0</td>\n",
       "    </tr>\n",
       "    <tr>\n",
       "      <th>14139</th>\n",
       "      <td>2245042</td>\n",
       "      <td>0</td>\n",
       "    </tr>\n",
       "    <tr>\n",
       "      <th>14140</th>\n",
       "      <td>2245071</td>\n",
       "      <td>0</td>\n",
       "    </tr>\n",
       "    <tr>\n",
       "      <th>14141</th>\n",
       "      <td>2245093</td>\n",
       "      <td>0</td>\n",
       "    </tr>\n",
       "    <tr>\n",
       "      <th>14142</th>\n",
       "      <td>2245123</td>\n",
       "      <td>0</td>\n",
       "    </tr>\n",
       "    <tr>\n",
       "      <th>14143</th>\n",
       "      <td>2245124</td>\n",
       "      <td>0</td>\n",
       "    </tr>\n",
       "    <tr>\n",
       "      <th>14144</th>\n",
       "      <td>2245167</td>\n",
       "      <td>0</td>\n",
       "    </tr>\n",
       "    <tr>\n",
       "      <th>14145</th>\n",
       "      <td>2245170</td>\n",
       "      <td>0</td>\n",
       "    </tr>\n",
       "    <tr>\n",
       "      <th>14146</th>\n",
       "      <td>2245172</td>\n",
       "      <td>0</td>\n",
       "    </tr>\n",
       "    <tr>\n",
       "      <th>14147</th>\n",
       "      <td>2245180</td>\n",
       "      <td>0</td>\n",
       "    </tr>\n",
       "    <tr>\n",
       "      <th>14148</th>\n",
       "      <td>2245185</td>\n",
       "      <td>0</td>\n",
       "    </tr>\n",
       "    <tr>\n",
       "      <th>14149</th>\n",
       "      <td>2245186</td>\n",
       "      <td>0</td>\n",
       "    </tr>\n",
       "    <tr>\n",
       "      <th>14150</th>\n",
       "      <td>2245187</td>\n",
       "      <td>0</td>\n",
       "    </tr>\n",
       "    <tr>\n",
       "      <th>14151</th>\n",
       "      <td>2245203</td>\n",
       "      <td>0</td>\n",
       "    </tr>\n",
       "    <tr>\n",
       "      <th>14152</th>\n",
       "      <td>2245221</td>\n",
       "      <td>0</td>\n",
       "    </tr>\n",
       "    <tr>\n",
       "      <th>14153</th>\n",
       "      <td>2245222</td>\n",
       "      <td>0</td>\n",
       "    </tr>\n",
       "    <tr>\n",
       "      <th>14154</th>\n",
       "      <td>2245228</td>\n",
       "      <td>0</td>\n",
       "    </tr>\n",
       "    <tr>\n",
       "      <th>14155</th>\n",
       "      <td>2245266</td>\n",
       "      <td>0</td>\n",
       "    </tr>\n",
       "    <tr>\n",
       "      <th>14156</th>\n",
       "      <td>2245331</td>\n",
       "      <td>0</td>\n",
       "    </tr>\n",
       "    <tr>\n",
       "      <th>14157</th>\n",
       "      <td>2245345</td>\n",
       "      <td>0</td>\n",
       "    </tr>\n",
       "    <tr>\n",
       "      <th>14158</th>\n",
       "      <td>2245921</td>\n",
       "      <td>0</td>\n",
       "    </tr>\n",
       "    <tr>\n",
       "      <th>14159</th>\n",
       "      <td>2245929</td>\n",
       "      <td>0</td>\n",
       "    </tr>\n",
       "    <tr>\n",
       "      <th>14160</th>\n",
       "      <td>2245930</td>\n",
       "      <td>0</td>\n",
       "    </tr>\n",
       "    <tr>\n",
       "      <th>14161</th>\n",
       "      <td>2245938</td>\n",
       "      <td>0</td>\n",
       "    </tr>\n",
       "    <tr>\n",
       "      <th>14162</th>\n",
       "      <td>2245978</td>\n",
       "      <td>0</td>\n",
       "    </tr>\n",
       "    <tr>\n",
       "      <th>14163</th>\n",
       "      <td>2246083</td>\n",
       "      <td>0</td>\n",
       "    </tr>\n",
       "    <tr>\n",
       "      <th>14164</th>\n",
       "      <td>2246089</td>\n",
       "      <td>0</td>\n",
       "    </tr>\n",
       "    <tr>\n",
       "      <th>14165</th>\n",
       "      <td>2246127</td>\n",
       "      <td>0</td>\n",
       "    </tr>\n",
       "  </tbody>\n",
       "</table>\n",
       "<p>14166 rows × 2 columns</p>\n",
       "</div>"
      ],
      "text/plain": [
       "            id  price_usd\n",
       "0         3632          0\n",
       "1         3633          0\n",
       "2      2263404          0\n",
       "3      2263405          0\n",
       "4      2263406          0\n",
       "5      2263407          0\n",
       "6      2263408          0\n",
       "7      2263409          0\n",
       "8      2263410          0\n",
       "9      2263411          0\n",
       "10     2263412          0\n",
       "11     2263413          0\n",
       "12     2263415          0\n",
       "13     2263416          0\n",
       "14     2263417          0\n",
       "15     2263418          0\n",
       "16     2263419          0\n",
       "17     2263420          0\n",
       "18     2263421          0\n",
       "19     2263422          0\n",
       "20     2263423          0\n",
       "21     2263424          0\n",
       "22     2263425          0\n",
       "23     2263426          0\n",
       "24     2263427          0\n",
       "25     2263428          0\n",
       "26     2263429          0\n",
       "27     2263430          0\n",
       "28     2263431          0\n",
       "29     2263432          0\n",
       "...        ...        ...\n",
       "14136  2245037          0\n",
       "14137  2245039          0\n",
       "14138  2245041          0\n",
       "14139  2245042          0\n",
       "14140  2245071          0\n",
       "14141  2245093          0\n",
       "14142  2245123          0\n",
       "14143  2245124          0\n",
       "14144  2245167          0\n",
       "14145  2245170          0\n",
       "14146  2245172          0\n",
       "14147  2245180          0\n",
       "14148  2245185          0\n",
       "14149  2245186          0\n",
       "14150  2245187          0\n",
       "14151  2245203          0\n",
       "14152  2245221          0\n",
       "14153  2245222          0\n",
       "14154  2245228          0\n",
       "14155  2245266          0\n",
       "14156  2245331          0\n",
       "14157  2245345          0\n",
       "14158  2245921          0\n",
       "14159  2245929          0\n",
       "14160  2245930          0\n",
       "14161  2245938          0\n",
       "14162  2245978          0\n",
       "14163  2246083          0\n",
       "14164  2246089          0\n",
       "14165  2246127          0\n",
       "\n",
       "[14166 rows x 2 columns]"
      ]
     },
     "execution_count": 29,
     "metadata": {},
     "output_type": "execute_result"
    }
   ],
   "source": [
    "testPrediction"
   ]
  },
  {
   "cell_type": "code",
   "execution_count": null,
   "metadata": {
    "collapsed": true
   },
   "outputs": [],
   "source": [
    "#exportar csv con formato para kaggle\n",
    "fileName = \"predictionSGDRegressor.csv\"\n",
    "testPrediction.to_csv(fileName, sep=',')"
   ]
  }
 ],
 "metadata": {
  "kernelspec": {
   "display_name": "Python 3",
   "language": "python",
   "name": "python3"
  },
  "language_info": {
   "codemirror_mode": {
    "name": "ipython",
    "version": 3
   },
   "file_extension": ".py",
   "mimetype": "text/x-python",
   "name": "python",
   "nbconvert_exporter": "python",
   "pygments_lexer": "ipython3",
   "version": "3.6.0"
  }
 },
 "nbformat": 4,
 "nbformat_minor": 2
}

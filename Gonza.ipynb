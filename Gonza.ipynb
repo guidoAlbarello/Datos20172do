{
 "cells": [
  {
   "cell_type": "code",
   "execution_count": 1,
   "metadata": {
    "collapsed": true
   },
   "outputs": [],
   "source": [
    "\n",
    "import datetime as datetime\n",
    "import pandas as pd\n",
    "import numpy as np\n",
    "import matplotlib.pyplot as plt\n",
    "\n",
    "plt.style.use('default') # Make the graphs a bit prettier\n",
    "plt.rcParams['figure.figsize'] = (15, 5)\n",
    "\n",
    "#ver relaciones entre datos. que datos depende de otros. cuales son redundantes y no aportan informacion. \n"
   ]
  },
  {
   "cell_type": "code",
   "execution_count": 2,
   "metadata": {
    "collapsed": true
   },
   "outputs": [],
   "source": [
    "dsSell2013 = pd.read_csv(\"sell2013.csv\", low_memory=False)\n",
    "dsSell2014 = pd.read_csv(\"sell2014.csv\", low_memory=False)\n",
    "dsSell2015 = pd.read_csv(\"sell2015.csv\", low_memory=False)\n",
    "dsSell2016 = pd.read_csv(\"sell2016.csv\", low_memory=False)\n",
    "dsSell2017 = pd.read_csv(\"sell2017.csv\", low_memory=False)"
   ]
  },
  {
   "cell_type": "code",
   "execution_count": 3,
   "metadata": {
    "collapsed": false
   },
   "outputs": [],
   "source": [
    "#unimos todos los csv y filtramos para que solo queda GBA y CABA\n",
    "dsSell = dsSell2013.append(dsSell2014).append(dsSell2015).append(dsSell2016).append(dsSell2017)\n",
    "\n",
    "\n",
    "#filtrar con la lat long, o preguntar ocmo hacemos con los q no tienen ningun valor. \n",
    "#sino podemos filtrar a todos los  qno son nan y si es nan ir al campo descripcion a ver si es de gba y asi pero mas jodido creo\n",
    "#patterns = ['Capital Federal', 'Bs.As. G.B.A.']\n",
    "#dsSell = dsSell[dsSell['state_name'].str.contains('|'.join(patterns))]"
   ]
  },
  {
   "cell_type": "code",
   "execution_count": 4,
   "metadata": {
    "collapsed": false
   },
   "outputs": [
    {
     "data": {
      "text/html": [
       "<div>\n",
       "<table border=\"1\" class=\"dataframe\">\n",
       "  <thead>\n",
       "    <tr style=\"text-align: right;\">\n",
       "      <th></th>\n",
       "      <th>created_on</th>\n",
       "      <th>operation</th>\n",
       "      <th>property_type</th>\n",
       "      <th>place_name</th>\n",
       "      <th>place_with_parent_names</th>\n",
       "      <th>geonames_id</th>\n",
       "      <th>lat-lon</th>\n",
       "      <th>lat</th>\n",
       "      <th>lon</th>\n",
       "      <th>price</th>\n",
       "      <th>currency</th>\n",
       "      <th>price_aprox_local_currency</th>\n",
       "      <th>price_aprox_usd</th>\n",
       "      <th>surface_in_m2</th>\n",
       "      <th>price_usd_per_m2</th>\n",
       "      <th>floor</th>\n",
       "      <th>rooms</th>\n",
       "      <th>expenses</th>\n",
       "      <th>properati_url</th>\n",
       "      <th>image_thumbnail</th>\n",
       "    </tr>\n",
       "  </thead>\n",
       "  <tbody>\n",
       "    <tr>\n",
       "      <th>0</th>\n",
       "      <td>2012-08-08</td>\n",
       "      <td>sell</td>\n",
       "      <td>apartment</td>\n",
       "      <td>Belgrano</td>\n",
       "      <td>|Argentina|Capital Federal|Belgrano|</td>\n",
       "      <td>3436077.0</td>\n",
       "      <td>-34.561208,-58.464514</td>\n",
       "      <td>-34.561208</td>\n",
       "      <td>-58.464514</td>\n",
       "      <td>NaN</td>\n",
       "      <td>NaN</td>\n",
       "      <td>NaN</td>\n",
       "      <td>NaN</td>\n",
       "      <td>102.0</td>\n",
       "      <td>NaN</td>\n",
       "      <td>10.0</td>\n",
       "      <td>3.0</td>\n",
       "      <td>850 aprox</td>\n",
       "      <td>http://www.properati.com.ar/ag_venta_departame...</td>\n",
       "      <td>http://cf-thumbs.properati.com.ar/Cry7pVKa41t_...</td>\n",
       "    </tr>\n",
       "    <tr>\n",
       "      <th>1</th>\n",
       "      <td>2012-08-08</td>\n",
       "      <td>sell</td>\n",
       "      <td>apartment</td>\n",
       "      <td>Villa Ballester</td>\n",
       "      <td>|Argentina|Bs.As. G.B.A. Zona Norte|General Sa...</td>\n",
       "      <td>3427467.0</td>\n",
       "      <td>-34.54673,-58.550579</td>\n",
       "      <td>-34.546730</td>\n",
       "      <td>-58.550579</td>\n",
       "      <td>NaN</td>\n",
       "      <td>NaN</td>\n",
       "      <td>NaN</td>\n",
       "      <td>NaN</td>\n",
       "      <td>73.0</td>\n",
       "      <td>NaN</td>\n",
       "      <td>11.0</td>\n",
       "      <td>3.0</td>\n",
       "      <td>NaN</td>\n",
       "      <td>http://www.properati.com.ar/ah_venta_departame...</td>\n",
       "      <td>http://cf-thumbs.properati.com.ar/MwrzW_dkQbqR...</td>\n",
       "    </tr>\n",
       "    <tr>\n",
       "      <th>2</th>\n",
       "      <td>2012-08-08</td>\n",
       "      <td>sell</td>\n",
       "      <td>house</td>\n",
       "      <td>Villa Ballester</td>\n",
       "      <td>|Argentina|Bs.As. G.B.A. Zona Norte|General Sa...</td>\n",
       "      <td>3427467.0</td>\n",
       "      <td>-34.543776,-58.559615</td>\n",
       "      <td>-34.543776</td>\n",
       "      <td>-58.559615</td>\n",
       "      <td>NaN</td>\n",
       "      <td>NaN</td>\n",
       "      <td>NaN</td>\n",
       "      <td>NaN</td>\n",
       "      <td>485.0</td>\n",
       "      <td>NaN</td>\n",
       "      <td>NaN</td>\n",
       "      <td>4.0</td>\n",
       "      <td>NaN</td>\n",
       "      <td>http://www.properati.com.ar/aj_venta_casa_vill...</td>\n",
       "      <td>http://cf-thumbs.properati.com.ar/2wMqxAsh1N2t...</td>\n",
       "    </tr>\n",
       "    <tr>\n",
       "      <th>3</th>\n",
       "      <td>2012-08-08</td>\n",
       "      <td>sell</td>\n",
       "      <td>house</td>\n",
       "      <td>Villa Ballester</td>\n",
       "      <td>|Argentina|Bs.As. G.B.A. Zona Norte|General Sa...</td>\n",
       "      <td>3427467.0</td>\n",
       "      <td>NaN</td>\n",
       "      <td>NaN</td>\n",
       "      <td>NaN</td>\n",
       "      <td>110000.0</td>\n",
       "      <td>USD</td>\n",
       "      <td>649603.74</td>\n",
       "      <td>110000.0</td>\n",
       "      <td>349.0</td>\n",
       "      <td>315.186246</td>\n",
       "      <td>NaN</td>\n",
       "      <td>4.0</td>\n",
       "      <td>NaN</td>\n",
       "      <td>http://www.properati.com.ar/ak_venta_casa_vill...</td>\n",
       "      <td>http://cf-thumbs.properati.com.ar/uMwzJsvexa1C...</td>\n",
       "    </tr>\n",
       "    <tr>\n",
       "      <th>4</th>\n",
       "      <td>2012-08-08</td>\n",
       "      <td>sell</td>\n",
       "      <td>apartment</td>\n",
       "      <td>Loma Hermosa</td>\n",
       "      <td>|Argentina|Bs.As. G.B.A. Zona Oeste|Tres de Fe...</td>\n",
       "      <td>NaN</td>\n",
       "      <td>-34.568371,-58.598724</td>\n",
       "      <td>-34.568371</td>\n",
       "      <td>-58.598724</td>\n",
       "      <td>NaN</td>\n",
       "      <td>NaN</td>\n",
       "      <td>NaN</td>\n",
       "      <td>NaN</td>\n",
       "      <td>NaN</td>\n",
       "      <td>NaN</td>\n",
       "      <td>NaN</td>\n",
       "      <td>3.0</td>\n",
       "      <td>NaN</td>\n",
       "      <td>http://www.properati.com.ar/ao_venta_departame...</td>\n",
       "      <td>http://cf-thumbs.properati.com.ar/4kPnofvgR6hs...</td>\n",
       "    </tr>\n",
       "  </tbody>\n",
       "</table>\n",
       "</div>"
      ],
      "text/plain": [
       "   created_on operation property_type       place_name  \\\n",
       "0  2012-08-08      sell     apartment         Belgrano   \n",
       "1  2012-08-08      sell     apartment  Villa Ballester   \n",
       "2  2012-08-08      sell         house  Villa Ballester   \n",
       "3  2012-08-08      sell         house  Villa Ballester   \n",
       "4  2012-08-08      sell     apartment     Loma Hermosa   \n",
       "\n",
       "                             place_with_parent_names  geonames_id  \\\n",
       "0               |Argentina|Capital Federal|Belgrano|    3436077.0   \n",
       "1  |Argentina|Bs.As. G.B.A. Zona Norte|General Sa...    3427467.0   \n",
       "2  |Argentina|Bs.As. G.B.A. Zona Norte|General Sa...    3427467.0   \n",
       "3  |Argentina|Bs.As. G.B.A. Zona Norte|General Sa...    3427467.0   \n",
       "4  |Argentina|Bs.As. G.B.A. Zona Oeste|Tres de Fe...          NaN   \n",
       "\n",
       "                 lat-lon        lat        lon     price currency  \\\n",
       "0  -34.561208,-58.464514 -34.561208 -58.464514       NaN      NaN   \n",
       "1   -34.54673,-58.550579 -34.546730 -58.550579       NaN      NaN   \n",
       "2  -34.543776,-58.559615 -34.543776 -58.559615       NaN      NaN   \n",
       "3                    NaN        NaN        NaN  110000.0      USD   \n",
       "4  -34.568371,-58.598724 -34.568371 -58.598724       NaN      NaN   \n",
       "\n",
       "   price_aprox_local_currency  price_aprox_usd  surface_in_m2  \\\n",
       "0                         NaN              NaN          102.0   \n",
       "1                         NaN              NaN           73.0   \n",
       "2                         NaN              NaN          485.0   \n",
       "3                   649603.74         110000.0          349.0   \n",
       "4                         NaN              NaN            NaN   \n",
       "\n",
       "   price_usd_per_m2  floor  rooms   expenses  \\\n",
       "0               NaN   10.0    3.0  850 aprox   \n",
       "1               NaN   11.0    3.0        NaN   \n",
       "2               NaN    NaN    4.0        NaN   \n",
       "3        315.186246    NaN    4.0        NaN   \n",
       "4               NaN    NaN    3.0        NaN   \n",
       "\n",
       "                                       properati_url  \\\n",
       "0  http://www.properati.com.ar/ag_venta_departame...   \n",
       "1  http://www.properati.com.ar/ah_venta_departame...   \n",
       "2  http://www.properati.com.ar/aj_venta_casa_vill...   \n",
       "3  http://www.properati.com.ar/ak_venta_casa_vill...   \n",
       "4  http://www.properati.com.ar/ao_venta_departame...   \n",
       "\n",
       "                                     image_thumbnail  \n",
       "0  http://cf-thumbs.properati.com.ar/Cry7pVKa41t_...  \n",
       "1  http://cf-thumbs.properati.com.ar/MwrzW_dkQbqR...  \n",
       "2  http://cf-thumbs.properati.com.ar/2wMqxAsh1N2t...  \n",
       "3  http://cf-thumbs.properati.com.ar/uMwzJsvexa1C...  \n",
       "4  http://cf-thumbs.properati.com.ar/4kPnofvgR6hs...  "
      ]
     },
     "execution_count": 4,
     "metadata": {},
     "output_type": "execute_result"
    }
   ],
   "source": [
    "dsSell2013.head()"
   ]
  },
  {
   "cell_type": "code",
   "execution_count": 5,
   "metadata": {
    "collapsed": false
   },
   "outputs": [
    {
     "data": {
      "text/plain": [
       "Index(['created_on', 'operation', 'property_type', 'place_name',\n",
       "       'place_with_parent_names', 'geonames_id', 'lat-lon', 'lat', 'lon',\n",
       "       'price', 'currency', 'price_aprox_local_currency', 'price_aprox_usd',\n",
       "       'surface_in_m2', 'price_usd_per_m2', 'floor', 'rooms', 'expenses',\n",
       "       'properati_url', 'image_thumbnail'],\n",
       "      dtype='object')"
      ]
     },
     "execution_count": 5,
     "metadata": {},
     "output_type": "execute_result"
    }
   ],
   "source": [
    "dsSell2014.columns"
   ]
  },
  {
   "cell_type": "code",
   "execution_count": 6,
   "metadata": {
    "collapsed": false
   },
   "outputs": [
    {
     "data": {
      "text/plain": [
       "Index(['created_on', 'operation', 'property_type', 'place_name',\n",
       "       'place_with_parent_names', 'geonames_id', 'lat-lon', 'lat', 'lon',\n",
       "       'price', 'currency', 'price_aprox_local_currency', 'price_aprox_usd',\n",
       "       'surface_total_in_m2', 'surface_covered_in_m2', 'price_usd_per_m2',\n",
       "       'price_per_m2', 'floor', 'rooms', 'expenses', 'properati_url',\n",
       "       'description', 'title', 'extra', 'image_thumbnail'],\n",
       "      dtype='object')"
      ]
     },
     "execution_count": 6,
     "metadata": {},
     "output_type": "execute_result"
    }
   ],
   "source": [
    "dsSell2015.columns"
   ]
  },
  {
   "cell_type": "code",
   "execution_count": 7,
   "metadata": {
    "collapsed": false
   },
   "outputs": [
    {
     "data": {
      "text/plain": [
       "Index(['country_name', 'created_on', 'currency', 'description', 'expenses',\n",
       "       'extra', 'floor', 'geonames_id', 'id', 'image_thumbnail', 'lat',\n",
       "       'lat-lon', 'lon', 'operation', 'place_name', 'place_with_parent_names',\n",
       "       'price', 'price_aprox_local_currency', 'price_aprox_usd',\n",
       "       'price_per_m2', 'price_usd_per_m2', 'properati_url', 'property_type',\n",
       "       'rooms', 'state_name', 'surface_covered_in_m2', 'surface_in_m2',\n",
       "       'surface_total_in_m2', 'title'],\n",
       "      dtype='object')"
      ]
     },
     "execution_count": 7,
     "metadata": {},
     "output_type": "execute_result"
    }
   ],
   "source": [
    "dsSell.columns"
   ]
  },
  {
   "cell_type": "code",
   "execution_count": 8,
   "metadata": {
    "collapsed": true
   },
   "outputs": [],
   "source": [
    "#Queremos quedarnos con la zona, el municipio y los que esten en CABA y GBA\n",
    "\n",
    "dsSell['municipio'] = dsSell['place_with_parent_names'].apply(lambda x: x.split('|')[3])\n",
    "dsSell['zona'] = dsSell['place_with_parent_names'].apply(lambda x: x.split('|')[2])\n",
    "\n",
    "dsSell['filtro'] = dsSell['zona'].apply(lambda x: ((x=='Capital Federal')or(x=='Bs.As. G.B.A. Zona Norte')or(x=='Bs.As. G.B.A. Zona Sur')or(x=='Bs.As. G.B.A. Zona Oeste')))\n",
    "dsSell = dsSell[dsSell.filtro]\n",
    "dsSell.drop('filtro', axis=1, inplace=True)"
   ]
  },
  {
   "cell_type": "code",
   "execution_count": 9,
   "metadata": {
    "collapsed": true
   },
   "outputs": [],
   "source": [
    "#Como nos importa mucho el precio con respecto a otras cosas vamos a sacar a los que tienen esa columna en NaN\n",
    "\n",
    "dsSell['tiene_precio'] = dsSell['price'].apply(lambda x: pd.notnull(x))\n",
    "dsSell = dsSell[dsSell.tiene_precio]\n",
    "dsSell.drop('tiene_precio', axis=1, inplace=True)"
   ]
  },
  {
   "cell_type": "code",
   "execution_count": 10,
   "metadata": {
    "collapsed": false
   },
   "outputs": [
    {
     "data": {
      "text/plain": [
       "apartment    173536\n",
       "house        101135\n",
       "PH            19129\n",
       "store          8020\n",
       "Name: property_type, dtype: int64"
      ]
     },
     "execution_count": 10,
     "metadata": {},
     "output_type": "execute_result"
    }
   ],
   "source": [
    "#cuantos tipos de vivienda se vende\n",
    "\n",
    "dsSell['property_type'].value_counts()"
   ]
  },
  {
   "cell_type": "code",
   "execution_count": 11,
   "metadata": {
    "collapsed": false
   },
   "outputs": [
    {
     "data": {
      "text/plain": [
       "Tigre                                  12115\n",
       "Nordelta                               11696\n",
       "Capital Federal                        11499\n",
       "Pilar                                  10249\n",
       "Belgrano                                9505\n",
       "Ramos Mejía                             9379\n",
       "Palermo                                 8294\n",
       "Caballito                               6364\n",
       "Olivos                                  6311\n",
       "Morón                                   5211\n",
       "San Isidro                              5119\n",
       "Villa Urquiza                           4635\n",
       "Benavidez                               4610\n",
       "Villa Crespo                            4398\n",
       "Barrio Norte                            4332\n",
       "Recoleta                                4257\n",
       "Flores                                  4241\n",
       "Martínez                                4208\n",
       "Haedo                                   4072\n",
       "Ituzaingó                               4045\n",
       "La Plata                                3942\n",
       "Vicente López                           3845\n",
       "Almagro                                 3710\n",
       "San Fernando                            3685\n",
       "San Miguel                              3518\n",
       "Nuñez                                   3143\n",
       "Balvanera                               3069\n",
       "Bs.As. G.B.A. Zona Norte                2973\n",
       "San Martín                              2900\n",
       "Lomas de Zamora                         2647\n",
       "                                       ...  \n",
       "Churruca                                   1\n",
       "Barrio Cerrado La Colina                   1\n",
       "Barrio Cerrado \"La Merced\"                 1\n",
       "Barrio Cerrado \"Isla del Sol\"              1\n",
       "Los Pingüinos Country Club                 1\n",
       "Veinte de Junio                            1\n",
       "Barrio Cerrado La Masia                    1\n",
       "Barrio San Marco                           1\n",
       "Barrio Santa Elena - Pilar del Este        1\n",
       "Barrio Cerrado \"La Laguna\"                 1\n",
       "Barrio Melazzi                             1\n",
       " los alamos                                1\n",
       "Barrio Cerrado \"La Chacra\"                 1\n",
       "San Carlos Country Club - Entrada          1\n",
       "Barrio Cerrado \"La Emilia\"                 1\n",
       "Villa San Luis                             1\n",
       "La Esperanza Club de Campo                 1\n",
       "Barrio Cerrado Los Troncos                 1\n",
       "Barrio Cerrado \"SpringDale\"                1\n",
       "Barrio Privado Lagos de Canning            1\n",
       "Barrio Cerrado El Casco de Alvarez         1\n",
       "Barrio Cerrado \"La Retama\"                 1\n",
       "La Honorata                                1\n",
       "Barrio Cerrado \"La Candelaria\"             1\n",
       "La Matilda                                 1\n",
       "Gorina                                     1\n",
       "Barrio Cerrado \"Las Marías\"                1\n",
       "Club de Campo Manuel Belgrano              1\n",
       "Barrio Cerrado \"Jacarandá\"                 1\n",
       "Villa Brown                                1\n",
       "Name: place_name, dtype: int64"
      ]
     },
     "execution_count": 11,
     "metadata": {},
     "output_type": "execute_result"
    }
   ],
   "source": [
    "#lugares donde mas se vende\n",
    "dsSell['place_name'].value_counts()\n",
    "#dsSell['municipio'].value_counts()"
   ]
  },
  {
   "cell_type": "markdown",
   "metadata": {},
   "source": [
    "dsSell['place_name'].value_counts()"
   ]
  },
  {
   "cell_type": "code",
   "execution_count": 12,
   "metadata": {
    "collapsed": false
   },
   "outputs": [
    {
     "data": {
      "text/html": [
       "<div>\n",
       "<table border=\"1\" class=\"dataframe\">\n",
       "  <thead>\n",
       "    <tr style=\"text-align: right;\">\n",
       "      <th></th>\n",
       "      <th>place_name</th>\n",
       "      <th>price</th>\n",
       "    </tr>\n",
       "  </thead>\n",
       "  <tbody>\n",
       "    <tr>\n",
       "      <th>3</th>\n",
       "      <td>Villa Ballester</td>\n",
       "      <td>110000.0</td>\n",
       "    </tr>\n",
       "    <tr>\n",
       "      <th>6</th>\n",
       "      <td>San Martín</td>\n",
       "      <td>99000.0</td>\n",
       "    </tr>\n",
       "    <tr>\n",
       "      <th>10</th>\n",
       "      <td>Tigre</td>\n",
       "      <td>110000.0</td>\n",
       "    </tr>\n",
       "    <tr>\n",
       "      <th>11</th>\n",
       "      <td>Pilar</td>\n",
       "      <td>650000.0</td>\n",
       "    </tr>\n",
       "    <tr>\n",
       "      <th>12</th>\n",
       "      <td>Tigre</td>\n",
       "      <td>300000.0</td>\n",
       "    </tr>\n",
       "    <tr>\n",
       "      <th>13</th>\n",
       "      <td>Las Cañitas</td>\n",
       "      <td>600000.0</td>\n",
       "    </tr>\n",
       "    <tr>\n",
       "      <th>14</th>\n",
       "      <td>Flores</td>\n",
       "      <td>220000.0</td>\n",
       "    </tr>\n",
       "    <tr>\n",
       "      <th>16</th>\n",
       "      <td>Floresta</td>\n",
       "      <td>51900.0</td>\n",
       "    </tr>\n",
       "    <tr>\n",
       "      <th>17</th>\n",
       "      <td>Parque Centenario</td>\n",
       "      <td>195000.0</td>\n",
       "    </tr>\n",
       "    <tr>\n",
       "      <th>18</th>\n",
       "      <td>Liniers</td>\n",
       "      <td>115000.0</td>\n",
       "    </tr>\n",
       "    <tr>\n",
       "      <th>19</th>\n",
       "      <td>Tigre</td>\n",
       "      <td>195000.0</td>\n",
       "    </tr>\n",
       "    <tr>\n",
       "      <th>20</th>\n",
       "      <td>Constitución</td>\n",
       "      <td>69000.0</td>\n",
       "    </tr>\n",
       "    <tr>\n",
       "      <th>21</th>\n",
       "      <td>Constitución</td>\n",
       "      <td>61200.0</td>\n",
       "    </tr>\n",
       "    <tr>\n",
       "      <th>22</th>\n",
       "      <td>Tigre</td>\n",
       "      <td>1100000.0</td>\n",
       "    </tr>\n",
       "    <tr>\n",
       "      <th>23</th>\n",
       "      <td>Pilar</td>\n",
       "      <td>320000.0</td>\n",
       "    </tr>\n",
       "    <tr>\n",
       "      <th>24</th>\n",
       "      <td>Recoleta</td>\n",
       "      <td>280000.0</td>\n",
       "    </tr>\n",
       "    <tr>\n",
       "      <th>25</th>\n",
       "      <td>Recoleta</td>\n",
       "      <td>138500.0</td>\n",
       "    </tr>\n",
       "    <tr>\n",
       "      <th>26</th>\n",
       "      <td>Tigre</td>\n",
       "      <td>190000.0</td>\n",
       "    </tr>\n",
       "    <tr>\n",
       "      <th>27</th>\n",
       "      <td>Tigre</td>\n",
       "      <td>530000.0</td>\n",
       "    </tr>\n",
       "    <tr>\n",
       "      <th>28</th>\n",
       "      <td>Villa Udaondo</td>\n",
       "      <td>175000.0</td>\n",
       "    </tr>\n",
       "    <tr>\n",
       "      <th>29</th>\n",
       "      <td>San Antonio De Padua</td>\n",
       "      <td>120000.0</td>\n",
       "    </tr>\n",
       "    <tr>\n",
       "      <th>30</th>\n",
       "      <td>Victoria</td>\n",
       "      <td>50000.0</td>\n",
       "    </tr>\n",
       "    <tr>\n",
       "      <th>31</th>\n",
       "      <td>Villa Ballester</td>\n",
       "      <td>89000.0</td>\n",
       "    </tr>\n",
       "    <tr>\n",
       "      <th>32</th>\n",
       "      <td>Villa Crespo</td>\n",
       "      <td>76500.0</td>\n",
       "    </tr>\n",
       "    <tr>\n",
       "      <th>33</th>\n",
       "      <td>Villa Crespo</td>\n",
       "      <td>127500.0</td>\n",
       "    </tr>\n",
       "    <tr>\n",
       "      <th>34</th>\n",
       "      <td>Palermo</td>\n",
       "      <td>160000.0</td>\n",
       "    </tr>\n",
       "    <tr>\n",
       "      <th>35</th>\n",
       "      <td>Ramos Mejía</td>\n",
       "      <td>85000.0</td>\n",
       "    </tr>\n",
       "    <tr>\n",
       "      <th>36</th>\n",
       "      <td>Ramos Mejía</td>\n",
       "      <td>85000.0</td>\n",
       "    </tr>\n",
       "    <tr>\n",
       "      <th>37</th>\n",
       "      <td>Ramos Mejía</td>\n",
       "      <td>85000.0</td>\n",
       "    </tr>\n",
       "    <tr>\n",
       "      <th>38</th>\n",
       "      <td>Villa Pueyrredón</td>\n",
       "      <td>116900.0</td>\n",
       "    </tr>\n",
       "    <tr>\n",
       "      <th>...</th>\n",
       "      <td>...</td>\n",
       "      <td>...</td>\n",
       "    </tr>\n",
       "    <tr>\n",
       "      <th>187403</th>\n",
       "      <td>Capital Federal</td>\n",
       "      <td>141000.0</td>\n",
       "    </tr>\n",
       "    <tr>\n",
       "      <th>187406</th>\n",
       "      <td>Capital Federal</td>\n",
       "      <td>138800.0</td>\n",
       "    </tr>\n",
       "    <tr>\n",
       "      <th>187407</th>\n",
       "      <td>Capital Federal</td>\n",
       "      <td>133000.0</td>\n",
       "    </tr>\n",
       "    <tr>\n",
       "      <th>187408</th>\n",
       "      <td>Lomas de Zamora</td>\n",
       "      <td>207000.0</td>\n",
       "    </tr>\n",
       "    <tr>\n",
       "      <th>187409</th>\n",
       "      <td>Capital Federal</td>\n",
       "      <td>135000.0</td>\n",
       "    </tr>\n",
       "    <tr>\n",
       "      <th>187410</th>\n",
       "      <td>Capital Federal</td>\n",
       "      <td>137000.0</td>\n",
       "    </tr>\n",
       "    <tr>\n",
       "      <th>187411</th>\n",
       "      <td>Nuñez</td>\n",
       "      <td>380000.0</td>\n",
       "    </tr>\n",
       "    <tr>\n",
       "      <th>187414</th>\n",
       "      <td>Olivos</td>\n",
       "      <td>548200.0</td>\n",
       "    </tr>\n",
       "    <tr>\n",
       "      <th>187415</th>\n",
       "      <td>Temperley</td>\n",
       "      <td>162000.0</td>\n",
       "    </tr>\n",
       "    <tr>\n",
       "      <th>187416</th>\n",
       "      <td>Boca</td>\n",
       "      <td>75000.0</td>\n",
       "    </tr>\n",
       "    <tr>\n",
       "      <th>187417</th>\n",
       "      <td>Coghlan</td>\n",
       "      <td>219000.0</td>\n",
       "    </tr>\n",
       "    <tr>\n",
       "      <th>187418</th>\n",
       "      <td>Olivos</td>\n",
       "      <td>652200.0</td>\n",
       "    </tr>\n",
       "    <tr>\n",
       "      <th>187419</th>\n",
       "      <td>Caballito</td>\n",
       "      <td>330000.0</td>\n",
       "    </tr>\n",
       "    <tr>\n",
       "      <th>187420</th>\n",
       "      <td>El Talar</td>\n",
       "      <td>225000.0</td>\n",
       "    </tr>\n",
       "    <tr>\n",
       "      <th>187423</th>\n",
       "      <td>Mataderos</td>\n",
       "      <td>150000.0</td>\n",
       "    </tr>\n",
       "    <tr>\n",
       "      <th>187424</th>\n",
       "      <td>Capital Federal</td>\n",
       "      <td>92000.0</td>\n",
       "    </tr>\n",
       "    <tr>\n",
       "      <th>187426</th>\n",
       "      <td>Barrio Norte</td>\n",
       "      <td>245000.0</td>\n",
       "    </tr>\n",
       "    <tr>\n",
       "      <th>187466</th>\n",
       "      <td>Jose Leon Suarez</td>\n",
       "      <td>80000.0</td>\n",
       "    </tr>\n",
       "    <tr>\n",
       "      <th>187468</th>\n",
       "      <td>Olivos</td>\n",
       "      <td>370000.0</td>\n",
       "    </tr>\n",
       "    <tr>\n",
       "      <th>187469</th>\n",
       "      <td>El Palomar</td>\n",
       "      <td>120000.0</td>\n",
       "    </tr>\n",
       "    <tr>\n",
       "      <th>187470</th>\n",
       "      <td>Lomas de Zamora</td>\n",
       "      <td>140000.0</td>\n",
       "    </tr>\n",
       "    <tr>\n",
       "      <th>187471</th>\n",
       "      <td>Recoleta</td>\n",
       "      <td>142000.0</td>\n",
       "    </tr>\n",
       "    <tr>\n",
       "      <th>187472</th>\n",
       "      <td>Recoleta</td>\n",
       "      <td>215000.0</td>\n",
       "    </tr>\n",
       "    <tr>\n",
       "      <th>187473</th>\n",
       "      <td>Palermo</td>\n",
       "      <td>145000.0</td>\n",
       "    </tr>\n",
       "    <tr>\n",
       "      <th>187474</th>\n",
       "      <td>Matheu</td>\n",
       "      <td>118000.0</td>\n",
       "    </tr>\n",
       "    <tr>\n",
       "      <th>187475</th>\n",
       "      <td>Barrio Norte</td>\n",
       "      <td>155000.0</td>\n",
       "    </tr>\n",
       "    <tr>\n",
       "      <th>187476</th>\n",
       "      <td>Villa Urquiza</td>\n",
       "      <td>219000.0</td>\n",
       "    </tr>\n",
       "    <tr>\n",
       "      <th>187478</th>\n",
       "      <td>Belgrano</td>\n",
       "      <td>108000.0</td>\n",
       "    </tr>\n",
       "    <tr>\n",
       "      <th>187479</th>\n",
       "      <td>Martínez</td>\n",
       "      <td>248000.0</td>\n",
       "    </tr>\n",
       "    <tr>\n",
       "      <th>187480</th>\n",
       "      <td>Villa Luro</td>\n",
       "      <td>110000.0</td>\n",
       "    </tr>\n",
       "  </tbody>\n",
       "</table>\n",
       "<p>301820 rows × 2 columns</p>\n",
       "</div>"
      ],
      "text/plain": [
       "                  place_name      price\n",
       "3            Villa Ballester   110000.0\n",
       "6                 San Martín    99000.0\n",
       "10                     Tigre   110000.0\n",
       "11                     Pilar   650000.0\n",
       "12                     Tigre   300000.0\n",
       "13               Las Cañitas   600000.0\n",
       "14                    Flores   220000.0\n",
       "16                  Floresta    51900.0\n",
       "17         Parque Centenario   195000.0\n",
       "18                   Liniers   115000.0\n",
       "19                     Tigre   195000.0\n",
       "20              Constitución    69000.0\n",
       "21              Constitución    61200.0\n",
       "22                     Tigre  1100000.0\n",
       "23                     Pilar   320000.0\n",
       "24                  Recoleta   280000.0\n",
       "25                  Recoleta   138500.0\n",
       "26                     Tigre   190000.0\n",
       "27                     Tigre   530000.0\n",
       "28             Villa Udaondo   175000.0\n",
       "29      San Antonio De Padua   120000.0\n",
       "30                  Victoria    50000.0\n",
       "31           Villa Ballester    89000.0\n",
       "32              Villa Crespo    76500.0\n",
       "33              Villa Crespo   127500.0\n",
       "34                   Palermo   160000.0\n",
       "35               Ramos Mejía    85000.0\n",
       "36               Ramos Mejía    85000.0\n",
       "37               Ramos Mejía    85000.0\n",
       "38          Villa Pueyrredón   116900.0\n",
       "...                      ...        ...\n",
       "187403       Capital Federal   141000.0\n",
       "187406       Capital Federal   138800.0\n",
       "187407       Capital Federal   133000.0\n",
       "187408       Lomas de Zamora   207000.0\n",
       "187409       Capital Federal   135000.0\n",
       "187410       Capital Federal   137000.0\n",
       "187411                 Nuñez   380000.0\n",
       "187414                Olivos   548200.0\n",
       "187415             Temperley   162000.0\n",
       "187416                  Boca    75000.0\n",
       "187417               Coghlan   219000.0\n",
       "187418                Olivos   652200.0\n",
       "187419             Caballito   330000.0\n",
       "187420              El Talar   225000.0\n",
       "187423             Mataderos   150000.0\n",
       "187424       Capital Federal    92000.0\n",
       "187426          Barrio Norte   245000.0\n",
       "187466      Jose Leon Suarez    80000.0\n",
       "187468                Olivos   370000.0\n",
       "187469            El Palomar   120000.0\n",
       "187470       Lomas de Zamora   140000.0\n",
       "187471              Recoleta   142000.0\n",
       "187472              Recoleta   215000.0\n",
       "187473               Palermo   145000.0\n",
       "187474                Matheu   118000.0\n",
       "187475          Barrio Norte   155000.0\n",
       "187476         Villa Urquiza   219000.0\n",
       "187478              Belgrano   108000.0\n",
       "187479              Martínez   248000.0\n",
       "187480            Villa Luro   110000.0\n",
       "\n",
       "[301820 rows x 2 columns]"
      ]
     },
     "execution_count": 12,
     "metadata": {},
     "output_type": "execute_result"
    }
   ],
   "source": [
    "dsSell[['place_name', 'price']]"
   ]
  },
  {
   "cell_type": "code",
   "execution_count": 13,
   "metadata": {
    "collapsed": false
   },
   "outputs": [
    {
     "data": {
      "text/plain": [
       "municipio\n",
       "                   270231.721642\n",
       "Abasto             155498.772601\n",
       "Agronomía          157318.141667\n",
       "Almagro            148182.569555\n",
       "Almirante Brown    196867.297707\n",
       "Name: price_aprox_usd, dtype: float64"
      ]
     },
     "execution_count": 13,
     "metadata": {},
     "output_type": "execute_result"
    }
   ],
   "source": [
    "dsSell.groupby('municipio').price_aprox_usd.mean().head()"
   ]
  },
  {
   "cell_type": "code",
   "execution_count": null,
   "metadata": {
    "collapsed": true
   },
   "outputs": [],
   "source": []
  },
  {
   "cell_type": "code",
   "execution_count": 14,
   "metadata": {
    "collapsed": false
   },
   "outputs": [
    {
     "ename": "NameError",
     "evalue": "name 'aux' is not defined",
     "output_type": "error",
     "traceback": [
      "\u001b[0;31m---------------------------------------------------------------------------\u001b[0m",
      "\u001b[0;31mNameError\u001b[0m                                 Traceback (most recent call last)",
      "\u001b[0;32m<ipython-input-14-be6db4fe4079>\u001b[0m in \u001b[0;36m<module>\u001b[0;34m()\u001b[0m\n\u001b[1;32m      1\u001b[0m \u001b[0mget_ipython\u001b[0m\u001b[1;33m(\u001b[0m\u001b[1;33m)\u001b[0m\u001b[1;33m.\u001b[0m\u001b[0mmagic\u001b[0m\u001b[1;33m(\u001b[0m\u001b[1;34m'matplotlib notebook'\u001b[0m\u001b[1;33m)\u001b[0m\u001b[1;33m\u001b[0m\u001b[0m\n\u001b[1;32m      2\u001b[0m \u001b[1;33m\u001b[0m\u001b[0m\n\u001b[0;32m----> 3\u001b[0;31m \u001b[0mnumeros\u001b[0m \u001b[1;33m=\u001b[0m \u001b[0mlist\u001b[0m\u001b[1;33m(\u001b[0m\u001b[0mrange\u001b[0m\u001b[1;33m(\u001b[0m\u001b[1;36m0\u001b[0m\u001b[1;33m,\u001b[0m \u001b[0mlen\u001b[0m\u001b[1;33m(\u001b[0m\u001b[0maux\u001b[0m\u001b[1;33m[\u001b[0m\u001b[1;34m'place_name'\u001b[0m\u001b[1;33m]\u001b[0m\u001b[1;33m)\u001b[0m\u001b[1;33m)\u001b[0m\u001b[1;33m)\u001b[0m\u001b[1;33m\u001b[0m\u001b[0m\n\u001b[0m\u001b[1;32m      4\u001b[0m \u001b[0mplt\u001b[0m\u001b[1;33m.\u001b[0m\u001b[0mbar\u001b[0m\u001b[1;33m(\u001b[0m\u001b[0mnumeros\u001b[0m\u001b[1;33m,\u001b[0m \u001b[0maux\u001b[0m\u001b[1;33m[\u001b[0m\u001b[1;34m'price'\u001b[0m\u001b[1;33m]\u001b[0m\u001b[1;33m)\u001b[0m\u001b[1;33m\u001b[0m\u001b[0m\n\u001b[1;32m      5\u001b[0m \u001b[0mplt\u001b[0m\u001b[1;33m.\u001b[0m\u001b[0msuptitle\u001b[0m\u001b[1;33m(\u001b[0m\u001b[1;34m\"Relación entre precio y lugar de propiedades en venta\"\u001b[0m\u001b[1;33m)\u001b[0m\u001b[1;33m\u001b[0m\u001b[0m\n",
      "\u001b[0;31mNameError\u001b[0m: name 'aux' is not defined"
     ]
    }
   ],
   "source": [
    "%matplotlib notebook\n",
    "\n",
    "numeros = list(range(0, len(aux['place_name'])))\n",
    "plt.bar(numeros, aux['price'])\n",
    "plt.suptitle(\"Relación entre precio y lugar de propiedades en venta\")\n",
    "plt.xlabel(\"Lugar\")\n",
    "plt.ylabel(\"Precio\")\n",
    "plt.xticks(numeros, aux['place_name'])\n",
    "plt.show()\n",
    "\n",
    "\n"
   ]
  },
  {
   "cell_type": "code",
   "execution_count": null,
   "metadata": {
    "collapsed": true
   },
   "outputs": [],
   "source": [
    "aux = dsSell.groupby('place_name').count().reset_index().sort_values(by = 'price',ascending= False)[['place_name', 'price']]\n",
    "aux"
   ]
  },
  {
   "cell_type": "code",
   "execution_count": null,
   "metadata": {
    "collapsed": true
   },
   "outputs": [],
   "source": [
    "%matplotlib notebook\n",
    "\n",
    "numeros = list(range(0, len(aux['place_name'])))\n",
    "plt.bar(numeros, aux['price'])\n",
    "plt.suptitle(\"Relación entre lugar y cantidad de publicaciones de ese lugar\")\n",
    "plt.xlabel(\"Lugar\")\n",
    "plt.ylabel(\"Precio\")\n",
    "plt.xticks(numeros, aux['place_name'])\n",
    "plt.show()\n",
    "\n"
   ]
  },
  {
   "cell_type": "code",
   "execution_count": null,
   "metadata": {
    "collapsed": true
   },
   "outputs": [],
   "source": [
    "\n",
    "#formatear datos stirng a float\n",
    "#convertimos el formato de la fecha\n",
    "dsSell['created_on'] = dsSell['created_on'] .map(lambda x: x.split('-')[0]+x.split('-')[1]+x.split('-')[2])\n",
    "dsSell"
   ]
  },
  {
   "cell_type": "code",
   "execution_count": null,
   "metadata": {
    "collapsed": true
   },
   "outputs": [],
   "source": [
    "#pasar precios a pesos argentinos\n",
    "\n",
    "\n",
    "#usamos un promedio aprox del dolar en estos 4 años. se peude hacer ocn mas precisión\n",
    "dsSell['priceInUsd'] = dsSell[['price', 'currency']].apply(lambda x: x[0] if x[1] == 'USD' else x[0] / 14, axis=1) \n",
    "\n",
    "dsSell['priceInUsd']"
   ]
  },
  {
   "cell_type": "code",
   "execution_count": null,
   "metadata": {
    "collapsed": true
   },
   "outputs": [],
   "source": [
    "#vemos como evolucionan algunos features en el tiempo para la renta\n",
    "\n",
    "cantidadRentEnAnios = dsSell.groupby('created_on').count().reset_index().rename(columns={'price':'cantidad'}).sort_values(by = 'created_on',ascending= True)[['created_on', 'cantidad']]\n",
    "preciosRentEnAnios = dsSell.groupby('created_on').mean().reset_index().sort_values(by = 'created_on',ascending= True)[['created_on', 'priceInUsd']]"
   ]
  },
  {
   "cell_type": "code",
   "execution_count": null,
   "metadata": {
    "collapsed": true
   },
   "outputs": [],
   "source": [
    "%matplotlib notebook\n",
    "\n",
    "numeros = list(range(0, len(cantidadRentEnAnios['created_on'])))\n",
    "plt.bar(numeros, cantidadRentEnAnios['cantidad'])\n",
    "plt.suptitle(\"Evolución de cantidad de rentas en el tiempo\")\n",
    "plt.xlabel(\"Tiempo\")\n",
    "plt.ylabel(\"Cantidad Rentas\")\n",
    "plt.xticks(numeros, cantidadRentEnAnios['created_on'])\n",
    "plt.show()\n",
    "\n",
    "#ajustar ESCALAS\n"
   ]
  },
  {
   "cell_type": "code",
   "execution_count": null,
   "metadata": {
    "collapsed": true
   },
   "outputs": [],
   "source": [
    "%matplotlib notebook\n",
    "\n",
    "numeros = list(range(0, len(preciosRentEnAnios['created_on'])))\n",
    "plt.bar(numeros, preciosRentEnAnios['priceInUsd'])\n",
    "plt.suptitle(\"Evolución del precio a lo largo del tiempo\")\n",
    "plt.xlabel(\"Tiempo\")\n",
    "plt.ylabel(\"Precio\")\n",
    "plt.xticks(numeros, preciosRentEnAnios['created_on'])\n",
    "plt.show()\n"
   ]
  },
  {
   "cell_type": "code",
   "execution_count": null,
   "metadata": {
    "collapsed": true
   },
   "outputs": [],
   "source": [
    "dsSell['currency'].value_counts()"
   ]
  },
  {
   "cell_type": "code",
   "execution_count": null,
   "metadata": {
    "collapsed": true
   },
   "outputs": [],
   "source": [
    "#Cantidad de viviendas vendidas en dolares y pesos a lo largo del tiempo\n",
    "cantidadRentEnAniosEnDolares = dsSell[dsSell['currency'] == 'USD'].groupby('created_on').count().reset_index().rename(columns={'price':'cantidad'}).sort_values(by = 'created_on',ascending= True)[['created_on', 'cantidad']]\n",
    "cantidadRentEnAniosEnPesos = dsSell[dsSell['currency'] == 'ARS'].groupby('created_on').count().reset_index().rename(columns={'price':'cantidad'}).sort_values(by = 'created_on',ascending= True)[['created_on', 'cantidad']]"
   ]
  },
  {
   "cell_type": "code",
   "execution_count": null,
   "metadata": {
    "collapsed": true
   },
   "outputs": [],
   "source": [
    "%matplotlib notebook\n",
    "\n",
    "numeros = list(range(0, len(cantidadRentEnAniosEnDolares['created_on'])))\n",
    "plt.bar(numeros, cantidadRentEnAniosEnDolares['cantidad'])\n",
    "plt.suptitle(\"Evolución de cantidad de rentas en el tiempo en dolares\")\n",
    "plt.xlabel(\"Tiempo\")\n",
    "plt.ylabel(\"Cantidad Rentas\")\n",
    "plt.xticks(numeros, cantidadRentEnAniosEnDolares['created_on'])\n",
    "plt.show()\n"
   ]
  },
  {
   "cell_type": "code",
   "execution_count": null,
   "metadata": {
    "collapsed": true
   },
   "outputs": [],
   "source": [
    "%matplotlib notebook\n",
    "\n",
    "numeros = list(range(0, len(cantidadRentEnAniosEnPesos['created_on'])))\n",
    "plt.bar(numeros, cantidadRentEnAniosEnPesos['cantidad'])\n",
    "plt.suptitle(\"Evolución de cantidad de rentas en el tiempo en pesos\")\n",
    "plt.xlabel(\"Tiempo\")\n",
    "plt.ylabel(\"Cantidad Rentas\")\n",
    "plt.xticks(numeros, cantidadRentEnAniosEnPesos['created_on'])\n",
    "plt.show()"
   ]
  },
  {
   "cell_type": "code",
   "execution_count": null,
   "metadata": {
    "collapsed": true
   },
   "outputs": [],
   "source": [
    "#analizamos el precio de los lugares a lo largo del tiempo\n",
    "\n",
    "aux = dsSell.groupby(['place_name', 'created_on']).mean().reset_index().sort_values(by = 'price',ascending= False)[['place_name', 'created_on','priceInUsd']]\n",
    "aux\n"
   ]
  },
  {
   "cell_type": "code",
   "execution_count": null,
   "metadata": {
    "collapsed": true
   },
   "outputs": [],
   "source": [
    "#ESTO ESTA BASTATNE MAL \n",
    "\n",
    "\n",
    "%matplotlib notebook\n",
    "\n",
    "plt.scatter(aux['created_on'], aux['priceInUsd'])\n",
    "plt.suptitle(\"Evolución de preico en pesos en los lugares a lo largo del tiempo\")\n",
    "plt.xlabel(\"Tiempo\")\n",
    "plt.ylabel(\"Precio En Pesos\")\n",
    "#plt.xticks(numeros, cantidadRentEnAniosEnPesos['created_on'])\n",
    "plt.show()"
   ]
  },
  {
   "cell_type": "code",
   "execution_count": null,
   "metadata": {
    "collapsed": true
   },
   "outputs": [],
   "source": [
    "dsSell.columns"
   ]
  },
  {
   "cell_type": "code",
   "execution_count": null,
   "metadata": {
    "collapsed": true
   },
   "outputs": [],
   "source": [
    "#borrar los aprox de expenses\n",
    "#pasar price_per_m2 y price_usd_per_m2 a una sola que sea price_usd_per_m2\n",
    "dsSell.head()"
   ]
  },
  {
   "cell_type": "code",
   "execution_count": null,
   "metadata": {
    "collapsed": true
   },
   "outputs": [],
   "source": [
    "#sobre esto tal vez se puede hacer analisis de texto. tambien analizar la imagen..\n",
    "dsSell[['description', 'image_thumbnail']]"
   ]
  },
  {
   "cell_type": "code",
   "execution_count": null,
   "metadata": {
    "collapsed": true
   },
   "outputs": [],
   "source": [
    "#drop de columnas\n",
    "\n",
    "dsSell.drop('currency', axis=1, inplace=True)\n",
    "dsSell.drop('extra', axis=1, inplace=True)\n",
    "dsSell.drop('id', axis=1, inplace=True)\n",
    "dsSell.drop('image_thumbnail', axis=1, inplace=True)\n",
    "dsSell.drop('properati_url', axis=1, inplace=True)\n",
    "dsSell.drop('title', axis=1, inplace=True)\n",
    "dsSell.drop('lat-lon', axis=1, inplace=True)\n",
    "dsSell.drop('operation', axis=1, inplace=True)\n",
    "dsSell.drop('price_aprox_usd', axis=1, inplace=True)\n",
    "dsSell.drop('price', axis=1, inplace=True)\n",
    "dsSell.drop('price_aprox_local_currency', axis=1, inplace=True)\n",
    "dsSell.drop('country_name', axis=1, inplace=True)\n",
    "\n",
    "dsSell.drop('description', axis = 1, inplace = True)\n",
    "dsSell.drop('state_name', axis = 1, inplace = True)\n",
    "dsSell.drop('place_with_parent_names', axis=1, inplace=True)"
   ]
  },
  {
   "cell_type": "code",
   "execution_count": null,
   "metadata": {
    "collapsed": true
   },
   "outputs": [],
   "source": [
    "#one hot encoding de los place name. me suena mal muchas columnas. performance\n",
    "\n",
    "one_hot = pd.get_dummies(dsSell['place_name'])\n",
    "dsSell.drop('place_name', axis=1, inplace=True)\n",
    "dsSell = dsSell.join(one_hot)"
   ]
  },
  {
   "cell_type": "code",
   "execution_count": null,
   "metadata": {
    "collapsed": true
   },
   "outputs": [],
   "source": [
    "#El precio promedio de cada zona\n",
    "dsSell.groupby('zona').mean()['price_aprox_usd']"
   ]
  },
  {
   "cell_type": "code",
   "execution_count": null,
   "metadata": {
    "collapsed": true
   },
   "outputs": [],
   "source": [
    "#El precio promedio de cada tipo de cosa vendida\n",
    "dsSell.groupby('property_type').mean()['price_aprox_usd']"
   ]
  },
  {
   "cell_type": "code",
   "execution_count": null,
   "metadata": {
    "collapsed": true
   },
   "outputs": [],
   "source": []
  },
  {
   "cell_type": "code",
   "execution_count": null,
   "metadata": {
    "collapsed": true
   },
   "outputs": [],
   "source": [
    "dsSell[dsSell.zona == 'Bs.As. G.B.A. Zona Norte']['property_type'].value_counts()"
   ]
  },
  {
   "cell_type": "code",
   "execution_count": null,
   "metadata": {
    "collapsed": true
   },
   "outputs": [],
   "source": [
    "dsSell[dsSell.zona == 'Bs.As. G.B.A. Zona Sur']['property_type'].value_counts()"
   ]
  },
  {
   "cell_type": "code",
   "execution_count": null,
   "metadata": {
    "collapsed": true
   },
   "outputs": [],
   "source": [
    "dsSell[dsSell.zona == 'Bs.As. G.B.A. Zona Oeste']['property_type'].value_counts()"
   ]
  },
  {
   "cell_type": "code",
   "execution_count": null,
   "metadata": {
    "collapsed": true
   },
   "outputs": [],
   "source": [
    "dsSell[dsSell.zona == 'Capital Federal']['property_type'].value_counts()"
   ]
  },
  {
   "cell_type": "code",
   "execution_count": null,
   "metadata": {
    "collapsed": true
   },
   "outputs": [],
   "source": []
  },
  {
   "cell_type": "code",
   "execution_count": null,
   "metadata": {
    "collapsed": true
   },
   "outputs": [],
   "source": [
    "#Que mes se vende mas?\n",
    "dsSell['mes'] = dsSell.created_on.apply(lambda x: x.split('-')[1])\n",
    "dsSell['mes'].value_counts()"
   ]
  },
  {
   "cell_type": "code",
   "execution_count": null,
   "metadata": {
    "collapsed": true
   },
   "outputs": [],
   "source": []
  },
  {
   "cell_type": "code",
   "execution_count": null,
   "metadata": {
    "collapsed": true
   },
   "outputs": [],
   "source": []
  }
 ],
 "metadata": {
  "kernelspec": {
   "display_name": "Python 3",
   "language": "python",
   "name": "python3"
  },
  "language_info": {
   "codemirror_mode": {
    "name": "ipython",
    "version": 3
   },
   "file_extension": ".py",
   "mimetype": "text/x-python",
   "name": "python",
   "nbconvert_exporter": "python",
   "pygments_lexer": "ipython3",
   "version": "3.6.0"
  }
 },
 "nbformat": 4,
 "nbformat_minor": 2
}
